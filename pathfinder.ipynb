{
 "cells": [
  {
   "cell_type": "code",
   "execution_count": null,
   "id": "cc39f70d-8b25-4214-836d-61c54b4a81f2",
   "metadata": {},
   "outputs": [],
   "source": []
  },
  {
   "cell_type": "code",
   "execution_count": 2,
   "id": "277156ed-a9b7-4dcb-af3c-cb19be9bfaaa",
   "metadata": {},
   "outputs": [],
   "source": [
    "import numpy as np\n",
    "from the_right_route import TheRightRoute\n",
    "from finder_strategy_1 import FinderStrategy_1\n",
    "from pathfinder import PathFinder\n",
    "\n",
    "%matplotlib inline\n",
    "\n",
    "n_cars = 20\n",
    "n_loops = 10\n",
    "step_length = 1\n",
    "max_steering = 45 * np.pi / 180 # 45deg in radians\n",
    "acceptable_distance = 10\n",
    "\n",
    "\n",
    "# RouteToFollow = LineString([(0,0), (60,100)]) # Straight line\n",
    "RouteToFollow = LineString([(0,0), (60, 0), (60, 60)]) # L-shape\n",
    "# RouteToFollow = LineString([(0,0), (60, 0), (60, 60), (100, 50), (90, 30), (90, 0), (120,0)]) # Bumpy road\n",
    "# RouteToFollow = LineString([(0,0), (60, 0), (60, 60), (100, 50), (75, 30), (90, 0), (120,0)]) # Bumpy road with shortcut\n",
    "# RouteToFollow = LineString([(0,0), (60, 0), (60, 60), (100, 50), (90, 30), (90, 0), (120,0), (130,90), (10, 85), (10, 30)]) # Snail\n",
    "# RouteToFollow = LineString([(0,0), (20, 0), (20, 30), (50, 30), (50, -30), (20, -30), (20,-60), (80,-60), (80, 60), \\\n",
    "#                             (-30, 60), (-30, 0), (0, -90), (110, -90), (110, 0), (130, 0)]) # Labyrinth\n",
    "\n",
    "the_right_route = TheRightRoute(RouteToFollow, acceptable_distance)\n",
    "\n",
    "n_steps = int(the_right_route.route.length*1.5)\n",
    "\n",
    "finder_strategy = FinderStrategy_1(n_cars, n_steps, max_steering)\n",
    "\n",
    "pf = PathFinder(the_right_route, finder_strategy, acceptable_distance, n_cars, n_steps, n_loops, step_length)"
   ]
  },
  {
   "cell_type": "code",
   "execution_count": 24,
   "id": "6fc5fcc4-ac08-4817-a98d-3f91a2858d10",
   "metadata": {},
   "outputs": [
    {
     "name": "stderr",
     "output_type": "stream",
     "text": [
      "100%|██████████████████████████████████████████████████████████████████████████████████| 11/11 [00:01<00:00,  9.86it/s]\n"
     ]
    }
   ],
   "source": [
    "pf.run_simulation()"
   ]
  },
  {
   "cell_type": "code",
   "execution_count": 25,
   "id": "595606e7-fe5a-46c1-9f92-868600223333",
   "metadata": {},
   "outputs": [
    {
     "data": {
      "application/vnd.jupyter.widget-view+json": {
       "model_id": "444fe3865eb341429a3c7ce665acc736",
       "version_major": 2,
       "version_minor": 0
      },
      "text/plain": [
       "interactive(children=(IntSlider(value=0, description='Loop:', layout=Layout(width='95%'), max=10), Output()), …"
      ]
     },
     "metadata": {},
     "output_type": "display_data"
    }
   ],
   "source": [
    "pf.display_interactive_plot()"
   ]
  },
  {
   "cell_type": "code",
   "execution_count": null,
   "id": "f45af5c9-9671-453a-b67c-798267dce528",
   "metadata": {},
   "outputs": [],
   "source": []
  }
 ],
 "metadata": {
  "kernelspec": {
   "display_name": "Python 3 (ipykernel)",
   "language": "python",
   "name": "python3"
  },
  "language_info": {
   "codemirror_mode": {
    "name": "ipython",
    "version": 3
   },
   "file_extension": ".py",
   "mimetype": "text/x-python",
   "name": "python",
   "nbconvert_exporter": "python",
   "pygments_lexer": "ipython3",
   "version": "3.10.8"
  }
 },
 "nbformat": 4,
 "nbformat_minor": 5
}
