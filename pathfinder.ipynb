{
 "cells": [
  {
   "cell_type": "code",
   "execution_count": null,
   "id": "cc39f70d-8b25-4214-836d-61c54b4a81f2",
   "metadata": {},
   "outputs": [],
   "source": []
  },
  {
   "cell_type": "code",
   "execution_count": 4,
   "id": "15991cae-058e-46e9-b2d6-5a12c90f134a",
   "metadata": {},
   "outputs": [],
   "source": [
    "acceptable_distance = 10"
   ]
  },
  {
   "cell_type": "code",
   "execution_count": 8,
   "id": "ac34f277-cfd8-4243-85ba-537a4e3fde1b",
   "metadata": {},
   "outputs": [
    {
     "data": {
      "text/plain": [
       "<__main__.TheRightRoute at 0x1976b893cd0>"
      ]
     },
     "execution_count": 8,
     "metadata": {},
     "output_type": "execute_result"
    }
   ],
   "source": [
    "import numpy as np\n",
    "from shapely.geometry import Point, LineString\n",
    "\n",
    "\n",
    "class TheRightRoute():\n",
    "    def __init__(self, waypoints: LineString, acceptable_distance):\n",
    "        self.route = waypoints\n",
    "        self.acceptable_distance = acceptable_distance\n",
    "        \n",
    "        self.start_pt = Point(self.route.coords[0])\n",
    "        self.finish_line = self.calc_finish_line()\n",
    "    \n",
    "    def calc_finish_line(self):\n",
    "        if self.route.coords[-1][0]-self.route.coords[-2][0] == 0:\n",
    "            RouteEndAngle = np.pi /2\n",
    "        else:\n",
    "            RouteEndAngle = np.arctan((self.route.coords[-1][1]-self.route.coords[-2][1])/ \\\n",
    "                                      (self.route.coords[-1][0]-self.route.coords[-2][0]))\n",
    "        finish_line = LineString([\n",
    "            Point(\n",
    "                self.route.coords[-1][0] - acceptable_distance * np.sin(RouteEndAngle),\n",
    "                self.route.coords[-1][1] + acceptable_distance * np.cos(RouteEndAngle)),\n",
    "            Point(\n",
    "                self.route.coords[-1][0] + acceptable_distance * np.sin(RouteEndAngle),\n",
    "                self.route.coords[-1][1] - acceptable_distance * np.cos(RouteEndAngle))\n",
    "        ])\n",
    "        return finish_line\n",
    "    \n",
    "    \n",
    "    \n",
    "    \n",
    "    \n",
    "# RouteToFollow = LineString([(0,0), (60,100)]) # Straight line\n",
    "RouteToFollow = LineString([(0,0), (60, 0), (60, 60)]) # L-shape\n",
    "# RouteToFollow = LineString([(0,0), (60, 0), (60, 60), (100, 50), (90, 30), (90, 0), (120,0)]) # Bumpy road\n",
    "# RouteToFollow = LineString([(0,0), (60, 0), (60, 60), (100, 50), (75, 30), (90, 0), (120,0)]) # Bumpy road with shortcut\n",
    "# RouteToFollow = LineString([(0,0), (60, 0), (60, 60), (100, 50), (90, 30), (90, 0), (120,0), (130,90), (10, 85), (10, 30)]) # Snail\n",
    "# RouteToFollow = LineString([(0,0), (20, 0), (20, 30), (50, 30), (50, -30), (20, -30), (20,-60), (80,-60), (80, 60), \\\n",
    "#                             (-30, 60), (-30, 0), (0, -90), (110, -90), (110, 0), (130, 0)]) # Labyrinth\n",
    "TheRightRoute(RouteToFollow, acceptable_distance)"
   ]
  },
  {
   "cell_type": "code",
   "execution_count": null,
   "id": "eb415d2a-3134-46bf-a775-f349c8ea3516",
   "metadata": {},
   "outputs": [],
   "source": [
    "class pathfinder():\n",
    "    def __init__(self):\n",
    "        "
   ]
  },
  {
   "cell_type": "code",
   "execution_count": null,
   "id": "ce2cf423-10f9-4e1c-bb59-fe2b9cdaffe3",
   "metadata": {},
   "outputs": [],
   "source": []
  },
  {
   "cell_type": "code",
   "execution_count": null,
   "id": "6fc5fcc4-ac08-4817-a98d-3f91a2858d10",
   "metadata": {},
   "outputs": [],
   "source": []
  },
  {
   "cell_type": "code",
   "execution_count": null,
   "id": "595606e7-fe5a-46c1-9f92-868600223333",
   "metadata": {},
   "outputs": [],
   "source": []
  }
 ],
 "metadata": {
  "kernelspec": {
   "display_name": "Python 3 (ipykernel)",
   "language": "python",
   "name": "python3"
  },
  "language_info": {
   "codemirror_mode": {
    "name": "ipython",
    "version": 3
   },
   "file_extension": ".py",
   "mimetype": "text/x-python",
   "name": "python",
   "nbconvert_exporter": "python",
   "pygments_lexer": "ipython3",
   "version": "3.10.8"
  }
 },
 "nbformat": 4,
 "nbformat_minor": 5
}
